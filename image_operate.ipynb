{
 "cells": [
  {
   "cell_type": "code",
   "execution_count": 9,
   "metadata": {
    "collapsed": true
   },
   "outputs": [],
   "source": [
    "import cv2\n",
    "import glob\n",
    "import numpy as np\n",
    "from funs import Imshow\n",
    "from matplotlib import pyplot as plt"
   ]
  },
  {
   "cell_type": "code",
   "execution_count": 26,
   "outputs": [],
   "source": [
    "i = 0\n",
    "for jpgfile in glob.glob('Tumor/Training/no_tumor/*.jpg'):\n",
    "    image = cv2.imread(jpgfile)\n",
    "    dst = cv2.flip(image, 1)  # 水平\n",
    "    # cv2.imshow('image', dst)\n",
    "    # cv2.waitKey()\n",
    "    cv2.imwrite('Tumor/Training/no_tumor/hor_train_n({}).jpg'.format(i), dst)\n",
    "    i = i + 1"
   ],
   "metadata": {
    "collapsed": false,
    "pycharm": {
     "name": "#%%\n"
    }
   }
  },
  {
   "cell_type": "markdown",
   "source": [
    "#### 梯度运算"
   ],
   "metadata": {
    "collapsed": false,
    "pycharm": {
     "name": "#%% md\n"
    }
   }
  },
  {
   "cell_type": "code",
   "execution_count": 17,
   "outputs": [],
   "source": [
    "def tiduyunsuan(img):\n",
    "    k = np.ones((5, 5), np.uint8)\n",
    "    dst = cv2.morphologyEx(img, cv2.MORPH_GRADIENT, k)\n",
    "    return dst"
   ],
   "metadata": {
    "collapsed": false,
    "pycharm": {
     "name": "#%%\n"
    }
   }
  },
  {
   "cell_type": "code",
   "execution_count": 19,
   "outputs": [],
   "source": [
    "i = 0\n",
    "for jpgfile in glob.glob('TumorTest/glioma_tumor/*.jpg'):\n",
    "    img = cv2.imread(jpgfile)\n",
    "    dst = tiduyunsuan(img)\n",
    "    # cv2.imshow('image', dst)\n",
    "    # cv2.waitKey()\n",
    "    cv2.imwrite('TumorTest/glioma_tumor/out{}.jpg'.format(i), dst)\n",
    "    i = i + 1"
   ],
   "metadata": {
    "collapsed": false,
    "pycharm": {
     "name": "#%%\n"
    }
   }
  },
  {
   "cell_type": "markdown",
   "source": [
    "#### 灰度图像"
   ],
   "metadata": {
    "collapsed": false,
    "pycharm": {
     "name": "#%% md\n"
    }
   }
  },
  {
   "cell_type": "code",
   "execution_count": 20,
   "outputs": [],
   "source": [
    "def togray(img):\n",
    "    dst = cv2.cvtColor(img,cv2.COLOR_BGR2GRAY)\n",
    "    return dst"
   ],
   "metadata": {
    "collapsed": false,
    "pycharm": {
     "name": "#%%\n"
    }
   }
  },
  {
   "cell_type": "code",
   "execution_count": 33,
   "outputs": [],
   "source": [
    "i = 0\n",
    "for jpgfile in glob.glob('TumorOriginal/Testing/glioma_tumor/*.jpg'):\n",
    "    img = cv2.imread(jpgfile)\n",
    "    dst = togray(img)\n",
    "    # cv2.imshow('image', dst)\n",
    "    # cv2.waitKey()\n",
    "    cv2.imwrite('Tumor/Testing/glioma_tumor/test_g({}).jpg'.format(i), dst)\n",
    "    i = i + 1\n"
   ],
   "metadata": {
    "collapsed": false,
    "pycharm": {
     "name": "#%%\n"
    }
   }
  }
 ],
 "metadata": {
  "kernelspec": {
   "display_name": "Python 3",
   "language": "python",
   "name": "python3"
  },
  "language_info": {
   "codemirror_mode": {
    "name": "ipython",
    "version": 2
   },
   "file_extension": ".py",
   "mimetype": "text/x-python",
   "name": "python",
   "nbconvert_exporter": "python",
   "pygments_lexer": "ipython2",
   "version": "2.7.6"
  }
 },
 "nbformat": 4,
 "nbformat_minor": 0
}